{
 "cells": [
  {
   "cell_type": "code",
   "execution_count": 1,
   "id": "a3d86b66",
   "metadata": {},
   "outputs": [],
   "source": [
    "import numpy as np\n",
    "import pandas as pd\n",
    "import seaborn as sns\n",
    "import matplotlib.pyplot as plt\n",
    "import sklearn.metrics as skmts\n",
    "import sklearn.preprocessing as skpre\n",
    "import scipy.stats as scistat\n",
    "import glob\n",
    "plt.style.use('fivethirtyeight')\n",
    "%matplotlib inline"
   ]
  },
  {
   "cell_type": "markdown",
   "id": "5996d9cf",
   "metadata": {},
   "source": [
    "# ONEIL vs. ALMANAC"
   ]
  },
  {
   "cell_type": "code",
   "execution_count": 2,
   "id": "a444c9a3",
   "metadata": {},
   "outputs": [
    {
     "name": "stdout",
     "output_type": "stream",
     "text": [
      "find overlapping triplet between ONEIL and ALMANAC dataset=83\n",
      "find overlapping drug pair between ONEIL and ALMANAC dataset=46\n",
      "find overlapping cell line between ONEIL and ALMANAC dataset=9\n"
     ]
    }
   ],
   "source": [
    "df = pd.read_pickle('../data/processed_data/drugcomb_processed_data.pkl')\n",
    "\n",
    "oneil_df = df[df['study_name']=='ONEIL']\n",
    "almanac_df = df[df['study_name']=='ALMANAC']\n",
    "triplet_list = sorted(set(oneil_df['triplet'])&set(almanac_df['triplet']))\n",
    "ipair_list = sorted(set(oneil_df['ipair'])&set(almanac_df['ipair']))\n",
    "cid_list = sorted(set(oneil_df['cid'])&set(almanac_df['cid']))\n",
    "print(f'find overlapping triplet between ONEIL and ALMANAC dataset={len(triplet_list)}')\n",
    "print(f'find overlapping drug pair between ONEIL and ALMANAC dataset={len(ipair_list)}')\n",
    "print(f'find overlapping cell line between ONEIL and ALMANAC dataset={len(cid_list)}')"
   ]
  },
  {
   "cell_type": "code",
   "execution_count": null,
   "id": "225c4df6",
   "metadata": {},
   "outputs": [],
   "source": []
  },
  {
   "cell_type": "code",
   "execution_count": null,
   "id": "3d92c065",
   "metadata": {},
   "outputs": [],
   "source": []
  },
  {
   "cell_type": "markdown",
   "id": "d5217e65",
   "metadata": {},
   "source": [
    "# External Validation: \n",
    "\n",
    "## case1: predict known triplet"
   ]
  },
  {
   "cell_type": "code",
   "execution_count": 13,
   "id": "ab62b74f",
   "metadata": {},
   "outputs": [
    {
     "name": "stdout",
     "output_type": "stream",
     "text": [
      "df1=(133, 28)\n"
     ]
    }
   ],
   "source": [
    "df1 = almanac_df[almanac_df['triplet'].isin(triplet_list)]\n",
    "print(f'df1={df1.shape}')"
   ]
  },
  {
   "cell_type": "markdown",
   "id": "5beed4ed",
   "metadata": {},
   "source": [
    "## case2: predict unknown triplet"
   ]
  },
  {
   "cell_type": "code",
   "execution_count": 3,
   "id": "1b69ce67",
   "metadata": {},
   "outputs": [
    {
     "name": "stdout",
     "output_type": "stream",
     "text": [
      "df2=(72875, 28)\n"
     ]
    }
   ],
   "source": [
    "df2 = almanac_df[~almanac_df['triplet'].isin(triplet_list)]\n",
    "print(f'df2={df2.shape}')"
   ]
  },
  {
   "cell_type": "markdown",
   "id": "450181ee",
   "metadata": {},
   "source": [
    "## case3: predict unknown cell (drup pair is known)"
   ]
  },
  {
   "cell_type": "code",
   "execution_count": 8,
   "id": "552d0601",
   "metadata": {},
   "outputs": [
    {
     "name": "stdout",
     "output_type": "stream",
     "text": [
      "df3=(769, 28)\n"
     ]
    }
   ],
   "source": [
    "df3 = almanac_df[almanac_df['ipair'].isin(ipair_list)]\n",
    "df3 = df3[~df3['cid'].isin(cid_list)]\n",
    "print(f'df3={df3.shape}')"
   ]
  },
  {
   "cell_type": "markdown",
   "id": "1df0a7f4",
   "metadata": {},
   "source": [
    "## case4: predict unknown drug pair (cell is known)"
   ]
  },
  {
   "cell_type": "code",
   "execution_count": 9,
   "id": "e06c1a16",
   "metadata": {},
   "outputs": [
    {
     "name": "stdout",
     "output_type": "stream",
     "text": [
      "df4=(14324, 28)\n"
     ]
    }
   ],
   "source": [
    "df4 = almanac_df[almanac_df['cid'].isin(cid_list)]\n",
    "df4 = df4[~df4['ipair'].isin(ipair_list)]\n",
    "print(f'df4={df4.shape}')"
   ]
  },
  {
   "cell_type": "markdown",
   "id": "643bcb24",
   "metadata": {},
   "source": [
    "# case5: predict all (including overlapping triplets)"
   ]
  },
  {
   "cell_type": "code",
   "execution_count": 10,
   "id": "4828f4de",
   "metadata": {},
   "outputs": [
    {
     "name": "stdout",
     "output_type": "stream",
     "text": [
      "df5=(73008, 28)\n"
     ]
    }
   ],
   "source": [
    "df5 = almanac_df.copy()\n",
    "print(f'df5={df5.shape}')"
   ]
  },
  {
   "cell_type": "code",
   "execution_count": null,
   "id": "7b8ad87b",
   "metadata": {},
   "outputs": [],
   "source": []
  },
  {
   "cell_type": "code",
   "execution_count": null,
   "id": "cd46d22e",
   "metadata": {},
   "outputs": [],
   "source": []
  },
  {
   "cell_type": "markdown",
   "id": "71fdc9ac",
   "metadata": {},
   "source": [
    "# Save to file"
   ]
  },
  {
   "cell_type": "code",
   "execution_count": 11,
   "id": "8bb40ad2",
   "metadata": {},
   "outputs": [],
   "source": [
    "def classify_synergy(df, col_str='synergy_loewe', debug=False):\n",
    "    \"\"\"\n",
    "    return df with categorical labels\n",
    "\n",
    "    # classify loewe score\n",
    "    # synergistic: loewe > 10, --> 1\n",
    "    # antigonistic: loewe < -10, --> 0\n",
    "    # additive: -10 < loewe < 10 --> 2\n",
    "    \"\"\"\n",
    "    # replace value\n",
    "    rule = lambda x: 1 if x > 10 else 0 if x < -10 else 2\n",
    "    df['synergy_label'] = df[col_str].apply(rule)\n",
    "\n",
    "    # stats\n",
    "    n_data = len(df)\n",
    "    n_class0 = len(df[df[col_str]==0])\n",
    "    n_class1 = len(df[df[col_str]==1])\n",
    "    n_class2 = len(df[df[col_str]==2])\n",
    "\n",
    "    # excluding additive samples\n",
    "    df = df[df['synergy_label'] != 2]\n",
    "\n",
    "\n",
    "    if debug:\n",
    "        a = len(df)\n",
    "        b = n_class0 + n_class1 + n_class2\n",
    "        if a != b:\n",
    "            raise ValueError(f'Error, total size={a}, but got {b}')\n",
    "    return df\n",
    "\n",
    "def transform_synergy(df, col_str='synergy_loewe', debug=False):\n",
    "    \"\"\" return power transformed synergy scores\"\"\"\n",
    "    a = df[col_str].head(1).values[0]\n",
    "\n",
    "    # data transformation\n",
    "    pt = skpre.PowerTransformer(method='yeo-johnson', standardize=True)\n",
    "    mm = skpre.MinMaxScaler(feature_range=(0,1))\n",
    "    scaled_arr = pt.fit_transform(df[col_str].values.reshape(-1,1))\n",
    "    scaled_arr = mm.fit_transform(scaled_arr.reshape(-1,1))\n",
    "\n",
    "    # overwrite original values\n",
    "    df['synergy_label'] = scaled_arr\n",
    "    b = df[col_str].head(1).values[0]\n",
    "\n",
    "    if debug:\n",
    "        if a == b:\n",
    "            raise ValueError(f'Error, a==b before and after transformation')\n",
    "    return df"
   ]
  },
  {
   "cell_type": "code",
   "execution_count": 12,
   "id": "73d4130d",
   "metadata": {},
   "outputs": [
    {
     "name": "stderr",
     "output_type": "stream",
     "text": [
      "/tmp/ipykernel_4055464/3332745448.py:12: SettingWithCopyWarning: \n",
      "A value is trying to be set on a copy of a slice from a DataFrame.\n",
      "Try using .loc[row_indexer,col_indexer] = value instead\n",
      "\n",
      "See the caveats in the documentation: https://pandas.pydata.org/pandas-docs/stable/user_guide/indexing.html#returning-a-view-versus-a-copy\n",
      "  df['synergy_label'] = df[col_str].apply(rule)\n",
      "/tmp/ipykernel_4055464/3332745448.py:12: SettingWithCopyWarning: \n",
      "A value is trying to be set on a copy of a slice from a DataFrame.\n",
      "Try using .loc[row_indexer,col_indexer] = value instead\n",
      "\n",
      "See the caveats in the documentation: https://pandas.pydata.org/pandas-docs/stable/user_guide/indexing.html#returning-a-view-versus-a-copy\n",
      "  df['synergy_label'] = df[col_str].apply(rule)\n"
     ]
    },
    {
     "name": "stdout",
     "output_type": "stream",
     "text": [
      "save to file: ../data/external/ALMANAC_scenario1_classification.data.pkl\n",
      "0    68\n",
      "1    65\n",
      "Name: synergy_label, dtype: int64\n",
      "save to file: ../data/external/ALMANAC_scenario2_classification.data.pkl\n",
      "0    37227\n",
      "1    35648\n",
      "Name: synergy_label, dtype: int64\n",
      "save to file: ../data/external/ALMANAC_scenario3_classification.data.pkl\n",
      "0    440\n",
      "1    329\n",
      "Name: synergy_label, dtype: int64\n",
      "save to file: ../data/external/ALMANAC_scenario4_classification.data.pkl\n",
      "0    7452\n",
      "1    6872\n",
      "Name: synergy_label, dtype: int64\n",
      "save to file: ../data/external/ALMANAC_scenario5_classification.data.pkl\n",
      "0    37295\n",
      "1    35713\n",
      "Name: synergy_label, dtype: int64\n"
     ]
    }
   ],
   "source": [
    "for scenario, df in {'scenario1': df1, 'scenario2': df2, 'scenario3': df3, 'scenario4': df4, 'scenario5': df5}.items():\n",
    "    df = classify_synergy(df, col_str='synergy_loewe')\n",
    "\n",
    "    # select columns\n",
    "    df.loc[:, 'tcga_id'] = pd.factorize(df.copy().loc[:, 'tcga abbrev'])[0]\n",
    "    df.loc[:, 'tissue_id'] = pd.factorize(df.copy().loc[:, 'tissue_name'])[0]\n",
    "    df.loc[:, 'region_label'] = pd.factorize(df.copy().loc[:, 'dose_region'])[0]\n",
    "    h_list = ['triplet', 'icombo', 'ipair', 'cid', 'synergy_label', 'region_label', 'tcga_id', 'tissue_id',\n",
    "              'dose_region', 'tcga abbrev', 'tissue_name', 'synergy_loewe']\n",
    "    df = df[h_list]\n",
    "    \n",
    "    # save to file\n",
    "    fname = '../data/external/ALMANAC_'+ scenario +'_classification.data.pkl'\n",
    "    df.to_pickle(fname)\n",
    "\n",
    "    print(f'save to file: {fname}')\n",
    "    print(df['synergy_label'].value_counts())"
   ]
  },
  {
   "cell_type": "code",
   "execution_count": 15,
   "id": "5a6a09b6",
   "metadata": {},
   "outputs": [
    {
     "name": "stderr",
     "output_type": "stream",
     "text": [
      "/tmp/ipykernel_4055464/3332745448.py:42: SettingWithCopyWarning: \n",
      "A value is trying to be set on a copy of a slice from a DataFrame.\n",
      "Try using .loc[row_indexer,col_indexer] = value instead\n",
      "\n",
      "See the caveats in the documentation: https://pandas.pydata.org/pandas-docs/stable/user_guide/indexing.html#returning-a-view-versus-a-copy\n",
      "  df['synergy_label'] = scaled_arr\n",
      "/tmp/ipykernel_4055464/1578061612.py:5: SettingWithCopyWarning: \n",
      "A value is trying to be set on a copy of a slice from a DataFrame.\n",
      "Try using .loc[row_indexer,col_indexer] = value instead\n",
      "\n",
      "See the caveats in the documentation: https://pandas.pydata.org/pandas-docs/stable/user_guide/indexing.html#returning-a-view-versus-a-copy\n",
      "  df.loc[:, 'tcga_id'] = pd.factorize(df.copy().loc[:, 'tcga abbrev'])[0]\n",
      "/tmp/ipykernel_4055464/1578061612.py:6: SettingWithCopyWarning: \n",
      "A value is trying to be set on a copy of a slice from a DataFrame.\n",
      "Try using .loc[row_indexer,col_indexer] = value instead\n",
      "\n",
      "See the caveats in the documentation: https://pandas.pydata.org/pandas-docs/stable/user_guide/indexing.html#returning-a-view-versus-a-copy\n",
      "  df.loc[:, 'tissue_id'] = pd.factorize(df.copy().loc[:, 'tissue_name'])[0]\n",
      "/tmp/ipykernel_4055464/1578061612.py:7: SettingWithCopyWarning: \n",
      "A value is trying to be set on a copy of a slice from a DataFrame.\n",
      "Try using .loc[row_indexer,col_indexer] = value instead\n",
      "\n",
      "See the caveats in the documentation: https://pandas.pydata.org/pandas-docs/stable/user_guide/indexing.html#returning-a-view-versus-a-copy\n",
      "  df.loc[:, 'region_label'] = pd.factorize(df.copy().loc[:, 'dose_region'])[0]\n",
      "/tmp/ipykernel_4055464/3332745448.py:42: SettingWithCopyWarning: \n",
      "A value is trying to be set on a copy of a slice from a DataFrame.\n",
      "Try using .loc[row_indexer,col_indexer] = value instead\n",
      "\n",
      "See the caveats in the documentation: https://pandas.pydata.org/pandas-docs/stable/user_guide/indexing.html#returning-a-view-versus-a-copy\n",
      "  df['synergy_label'] = scaled_arr\n",
      "/tmp/ipykernel_4055464/1578061612.py:5: SettingWithCopyWarning: \n",
      "A value is trying to be set on a copy of a slice from a DataFrame.\n",
      "Try using .loc[row_indexer,col_indexer] = value instead\n",
      "\n",
      "See the caveats in the documentation: https://pandas.pydata.org/pandas-docs/stable/user_guide/indexing.html#returning-a-view-versus-a-copy\n",
      "  df.loc[:, 'tcga_id'] = pd.factorize(df.copy().loc[:, 'tcga abbrev'])[0]\n",
      "/tmp/ipykernel_4055464/1578061612.py:6: SettingWithCopyWarning: \n",
      "A value is trying to be set on a copy of a slice from a DataFrame.\n",
      "Try using .loc[row_indexer,col_indexer] = value instead\n",
      "\n",
      "See the caveats in the documentation: https://pandas.pydata.org/pandas-docs/stable/user_guide/indexing.html#returning-a-view-versus-a-copy\n",
      "  df.loc[:, 'tissue_id'] = pd.factorize(df.copy().loc[:, 'tissue_name'])[0]\n",
      "/tmp/ipykernel_4055464/1578061612.py:7: SettingWithCopyWarning: \n",
      "A value is trying to be set on a copy of a slice from a DataFrame.\n",
      "Try using .loc[row_indexer,col_indexer] = value instead\n",
      "\n",
      "See the caveats in the documentation: https://pandas.pydata.org/pandas-docs/stable/user_guide/indexing.html#returning-a-view-versus-a-copy\n",
      "  df.loc[:, 'region_label'] = pd.factorize(df.copy().loc[:, 'dose_region'])[0]\n"
     ]
    },
    {
     "name": "stdout",
     "output_type": "stream",
     "text": [
      "save to file: ../data/external/ALMANAC_scenario1_regression.data.pkl\n",
      "count    133.000000\n",
      "mean       0.481590\n",
      "std        0.231896\n",
      "min        0.000000\n",
      "25%        0.352646\n",
      "50%        0.418868\n",
      "75%        0.634914\n",
      "max        1.000000\n",
      "Name: synergy_label, dtype: float64\n",
      "save to file: ../data/external/ALMANAC_scenario2_regression.data.pkl\n",
      "count    72875.000000\n",
      "mean         0.447860\n",
      "std          0.151968\n",
      "min          0.000000\n",
      "25%          0.348677\n",
      "50%          0.410121\n",
      "75%          0.549787\n",
      "max          1.000000\n",
      "Name: synergy_label, dtype: float64\n",
      "save to file: ../data/external/ALMANAC_scenario3_regression.data.pkl\n",
      "count    769.000000\n",
      "mean       0.466720\n",
      "std        0.180863\n",
      "min        0.000000\n",
      "25%        0.355716\n",
      "50%        0.435163\n",
      "75%        0.594067\n",
      "max        1.000000\n",
      "Name: synergy_label, dtype: float64\n",
      "save to file: ../data/external/ALMANAC_scenario4_regression.data.pkl\n",
      "count    14324.000000\n",
      "mean         0.454274\n",
      "std          0.164387\n",
      "min          0.000000\n",
      "25%          0.348854\n",
      "50%          0.416533\n",
      "75%          0.564857\n",
      "max          1.000000\n",
      "Name: synergy_label, dtype: float64\n",
      "save to file: ../data/external/ALMANAC_scenario5_regression.data.pkl\n",
      "count    73008.000000\n",
      "mean         0.447875\n",
      "std          0.152026\n",
      "min          0.000000\n",
      "25%          0.348684\n",
      "50%          0.410121\n",
      "75%          0.549839\n",
      "max          1.000000\n",
      "Name: synergy_label, dtype: float64\n"
     ]
    }
   ],
   "source": [
    "for scenario, df in {'scenario1': df1, 'scenario2': df2, 'scenario3': df3, 'scenario4': df4, 'scenario5': df5}.items():\n",
    "    df = transform_synergy(df, col_str='synergy_loewe')\n",
    "\n",
    "    # select columns\n",
    "    df.loc[:, 'tcga_id'] = pd.factorize(df.copy().loc[:, 'tcga abbrev'])[0]\n",
    "    df.loc[:, 'tissue_id'] = pd.factorize(df.copy().loc[:, 'tissue_name'])[0]\n",
    "    df.loc[:, 'region_label'] = pd.factorize(df.copy().loc[:, 'dose_region'])[0]\n",
    "    h_list = ['triplet', 'icombo', 'ipair', 'cid', 'synergy_label', 'region_label', 'tcga_id', 'tissue_id',\n",
    "              'dose_region', 'tcga abbrev', 'tissue_name', 'synergy_loewe']\n",
    "    df = df[h_list]\n",
    "    \n",
    "    # save to file\n",
    "    fname = '../data/external/ALMANAC_'+ scenario +'_regression.data.pkl'\n",
    "    df.to_pickle(fname)\n",
    "\n",
    "    print(f'save to file: {fname}')\n",
    "    print(df['synergy_label'].describe())"
   ]
  },
  {
   "cell_type": "code",
   "execution_count": null,
   "id": "46d746d3",
   "metadata": {},
   "outputs": [],
   "source": []
  },
  {
   "cell_type": "code",
   "execution_count": null,
   "id": "4a4d7e08",
   "metadata": {},
   "outputs": [],
   "source": []
  },
  {
   "cell_type": "markdown",
   "id": "2635b869",
   "metadata": {},
   "source": [
    "# Performance of the non-skilled model"
   ]
  },
  {
   "cell_type": "code",
   "execution_count": 2,
   "id": "0c9353aa",
   "metadata": {},
   "outputs": [
    {
     "data": {
      "text/html": [
       "<div>\n",
       "<style scoped>\n",
       "    .dataframe tbody tr th:only-of-type {\n",
       "        vertical-align: middle;\n",
       "    }\n",
       "\n",
       "    .dataframe tbody tr th {\n",
       "        vertical-align: top;\n",
       "    }\n",
       "\n",
       "    .dataframe thead th {\n",
       "        text-align: right;\n",
       "    }\n",
       "</style>\n",
       "<table border=\"1\" class=\"dataframe\">\n",
       "  <thead>\n",
       "    <tr style=\"text-align: right;\">\n",
       "      <th></th>\n",
       "      <th>triplet</th>\n",
       "      <th>icombo</th>\n",
       "      <th>ipair</th>\n",
       "      <th>cid</th>\n",
       "      <th>synergy_label</th>\n",
       "      <th>region_label</th>\n",
       "      <th>tcga_id</th>\n",
       "      <th>tissue_id</th>\n",
       "      <th>dose_region</th>\n",
       "      <th>tcga abbrev</th>\n",
       "      <th>tissue_name</th>\n",
       "      <th>synergy_loewe</th>\n",
       "    </tr>\n",
       "  </thead>\n",
       "  <tbody>\n",
       "    <tr>\n",
       "      <th>1</th>\n",
       "      <td>001, RAD_Sorafenib_LOX IMVI</td>\n",
       "      <td>did_5=did_1386=cid_82=r0.1=c2.0</td>\n",
       "      <td>did_5-did_1386</td>\n",
       "      <td>cid_82</td>\n",
       "      <td>0</td>\n",
       "      <td>0</td>\n",
       "      <td>0</td>\n",
       "      <td>0</td>\n",
       "      <td>high_low</td>\n",
       "      <td>TCGA_SKCM</td>\n",
       "      <td>skin</td>\n",
       "      <td>-44.778147</td>\n",
       "    </tr>\n",
       "    <tr>\n",
       "      <th>2</th>\n",
       "      <td>001, RAD_Sorafenib_LOX IMVI</td>\n",
       "      <td>did_5=did_1386=cid_82=r0.1=c20.0</td>\n",
       "      <td>did_5-did_1386</td>\n",
       "      <td>cid_82</td>\n",
       "      <td>0</td>\n",
       "      <td>1</td>\n",
       "      <td>0</td>\n",
       "      <td>0</td>\n",
       "      <td>high</td>\n",
       "      <td>TCGA_SKCM</td>\n",
       "      <td>skin</td>\n",
       "      <td>-22.308577</td>\n",
       "    </tr>\n",
       "    <tr>\n",
       "      <th>0</th>\n",
       "      <td>001, RAD_Sorafenib_SK-MEL-2</td>\n",
       "      <td>did_5=did_1386=cid_149=r0.1=c2.0</td>\n",
       "      <td>did_5-did_1386</td>\n",
       "      <td>cid_149</td>\n",
       "      <td>0</td>\n",
       "      <td>0</td>\n",
       "      <td>0</td>\n",
       "      <td>0</td>\n",
       "      <td>high_low</td>\n",
       "      <td>TCGA_SKCM</td>\n",
       "      <td>skin</td>\n",
       "      <td>-45.554533</td>\n",
       "    </tr>\n",
       "    <tr>\n",
       "      <th>0</th>\n",
       "      <td>Crizotinib_001, RAD_SK-MEL-2</td>\n",
       "      <td>did_618=did_5=cid_149=r0.01=c0.006</td>\n",
       "      <td>did_618-did_5</td>\n",
       "      <td>cid_149</td>\n",
       "      <td>1</td>\n",
       "      <td>2</td>\n",
       "      <td>0</td>\n",
       "      <td>0</td>\n",
       "      <td>low</td>\n",
       "      <td>TCGA_SKCM</td>\n",
       "      <td>skin</td>\n",
       "      <td>19.384170</td>\n",
       "    </tr>\n",
       "    <tr>\n",
       "      <th>1</th>\n",
       "      <td>Crizotinib_001, RAD_SK-MEL-2</td>\n",
       "      <td>did_618=did_5=cid_149=r0.01=c0.06</td>\n",
       "      <td>did_618-did_5</td>\n",
       "      <td>cid_149</td>\n",
       "      <td>1</td>\n",
       "      <td>3</td>\n",
       "      <td>0</td>\n",
       "      <td>0</td>\n",
       "      <td>low_high</td>\n",
       "      <td>TCGA_SKCM</td>\n",
       "      <td>skin</td>\n",
       "      <td>18.946444</td>\n",
       "    </tr>\n",
       "  </tbody>\n",
       "</table>\n",
       "</div>"
      ],
      "text/plain": [
       "                        triplet                              icombo  \\\n",
       "1   001, RAD_Sorafenib_LOX IMVI     did_5=did_1386=cid_82=r0.1=c2.0   \n",
       "2   001, RAD_Sorafenib_LOX IMVI    did_5=did_1386=cid_82=r0.1=c20.0   \n",
       "0   001, RAD_Sorafenib_SK-MEL-2    did_5=did_1386=cid_149=r0.1=c2.0   \n",
       "0  Crizotinib_001, RAD_SK-MEL-2  did_618=did_5=cid_149=r0.01=c0.006   \n",
       "1  Crizotinib_001, RAD_SK-MEL-2   did_618=did_5=cid_149=r0.01=c0.06   \n",
       "\n",
       "            ipair      cid  synergy_label  region_label  tcga_id  tissue_id  \\\n",
       "1  did_5-did_1386   cid_82              0             0        0          0   \n",
       "2  did_5-did_1386   cid_82              0             1        0          0   \n",
       "0  did_5-did_1386  cid_149              0             0        0          0   \n",
       "0   did_618-did_5  cid_149              1             2        0          0   \n",
       "1   did_618-did_5  cid_149              1             3        0          0   \n",
       "\n",
       "  dose_region tcga abbrev tissue_name  synergy_loewe  \n",
       "1    high_low   TCGA_SKCM        skin     -44.778147  \n",
       "2        high   TCGA_SKCM        skin     -22.308577  \n",
       "0    high_low   TCGA_SKCM        skin     -45.554533  \n",
       "0         low   TCGA_SKCM        skin      19.384170  \n",
       "1    low_high   TCGA_SKCM        skin      18.946444  "
      ]
     },
     "execution_count": 2,
     "metadata": {},
     "output_type": "execute_result"
    }
   ],
   "source": [
    "case2_df = pd.read_pickle('../data/external/ALMANAC_scenario2_classification.data.pkl')\n",
    "case2_df.head()"
   ]
  },
  {
   "cell_type": "code",
   "execution_count": 3,
   "id": "bc928bcb",
   "metadata": {},
   "outputs": [
    {
     "data": {
      "text/plain": [
       "0    37227\n",
       "1    35648\n",
       "Name: synergy_label, dtype: int64"
      ]
     },
     "execution_count": 3,
     "metadata": {},
     "output_type": "execute_result"
    }
   ],
   "source": [
    "case2_df['synergy_label'].value_counts()"
   ]
  },
  {
   "cell_type": "code",
   "execution_count": 4,
   "id": "d3a4e3ba",
   "metadata": {},
   "outputs": [],
   "source": [
    "import numpy as np\n",
    "import pandas as pd\n",
    "import seaborn as sns\n",
    "import matplotlib.pyplot as plt\n",
    "import sklearn.metrics as skmts\n",
    "import scipy.stats as scistat\n",
    "import glob\n",
    "plt.style.use('fivethirtyeight')\n",
    "\n",
    "def eval_mts(y_list, y_pred_list, task_str):\n",
    "    \"\"\"return evaluation  metrices\"\"\"\n",
    "    mask = ~np.isnan(y_pred_list)\n",
    "    y_list = y_list[mask]\n",
    "    y_pred_list = y_pred_list[mask]\n",
    "    if task_str == 'classification':\n",
    "        auc = skmts.roc_auc_score(y_list, y_pred_list, average='micro')\n",
    "        aucprc = skmts.average_precision_score(y_list, y_pred_list, average='micro')\n",
    "        y_pred_list = (y_pred_list>0.5).astype(int)\n",
    "        acc = skmts.accuracy_score(y_list, y_pred_list)\n",
    "        mcc = skmts.matthews_corrcoef(y_list, y_pred_list)\n",
    "        f1 = skmts.f1_score(y_list, y_pred_list, average='micro')\n",
    "        precision = skmts.precision_score(y_list, y_pred_list)\n",
    "        recall = skmts.recall_score(y_list, y_pred_list)\n",
    "        kappa = skmts.cohen_kappa_score(y_list, y_pred_list)\n",
    "        balanced_acc = skmts.balanced_accuracy_score(y_list, y_pred_list)\n",
    "\n",
    "        df = pd.DataFrame({'metrices': ['AUC', 'AUPRC', 'Accuracy', 'MCC', 'F1', 'Precision', 'Recall', 'Kappa', 'Balanced_Accuracy'],\n",
    "                           'score': [auc, aucprc, acc, mcc, f1, precision, recall, kappa, balanced_acc]})\n",
    "\n",
    "        tn, fp, fn, tp = skmts.confusion_matrix(y_list, y_pred_list).ravel()\n",
    "        print(f'confusion matrix: TN={tn}, FP={fp}, FN={fn}, TP={tp}')\n",
    "\n",
    "    elif task_str == 'regression':\n",
    "        mae = skmts.mean_absolute_error(y_list, y_pred_list)\n",
    "        mse = skmts.mean_squared_error(y_list, y_pred_list)\n",
    "        rmse = skmts.mean_squared_error(y_list, y_pred_list, squared=False)\n",
    "        r2 = skmts.r2_score(y_list, y_pred_list)\n",
    "        pcc, pval = scistat.pearsonr(y_list, y_pred_list)\n",
    "        spr, pval = scistat.spearmanr(y_list, y_pred_list)\n",
    "\n",
    "        df = pd.DataFrame({'metrices': ['MAE', 'MSE', 'RMSE', 'R2', 'Pearson r', 'Spearman r'],\n",
    "                           'score': [mae, mse, rmse, r2, pcc, spr]})\n",
    "    else:\n",
    "        raise ValueError(f'Error, {task_str} should be either classification or regression!!!')\n",
    "    return df"
   ]
  },
  {
   "cell_type": "code",
   "execution_count": 7,
   "id": "103783d4",
   "metadata": {},
   "outputs": [
    {
     "name": "stdout",
     "output_type": "stream",
     "text": [
      "confusion matrix: TN=37227, FP=0, FN=35648, TP=0\n"
     ]
    },
    {
     "name": "stderr",
     "output_type": "stream",
     "text": [
      "/opt/conda/lib/python3.8/site-packages/sklearn/metrics/_classification.py:1344: UndefinedMetricWarning: Precision is ill-defined and being set to 0.0 due to no predicted samples. Use `zero_division` parameter to control this behavior.\n",
      "  _warn_prf(average, modifier, msg_start, len(result))\n"
     ]
    },
    {
     "data": {
      "text/html": [
       "<div>\n",
       "<style scoped>\n",
       "    .dataframe tbody tr th:only-of-type {\n",
       "        vertical-align: middle;\n",
       "    }\n",
       "\n",
       "    .dataframe tbody tr th {\n",
       "        vertical-align: top;\n",
       "    }\n",
       "\n",
       "    .dataframe thead th {\n",
       "        text-align: right;\n",
       "    }\n",
       "</style>\n",
       "<table border=\"1\" class=\"dataframe\">\n",
       "  <thead>\n",
       "    <tr style=\"text-align: right;\">\n",
       "      <th></th>\n",
       "      <th>metrices</th>\n",
       "      <th>score</th>\n",
       "    </tr>\n",
       "  </thead>\n",
       "  <tbody>\n",
       "    <tr>\n",
       "      <th>0</th>\n",
       "      <td>AUC</td>\n",
       "      <td>0.500000</td>\n",
       "    </tr>\n",
       "    <tr>\n",
       "      <th>1</th>\n",
       "      <td>AUPRC</td>\n",
       "      <td>0.489166</td>\n",
       "    </tr>\n",
       "    <tr>\n",
       "      <th>2</th>\n",
       "      <td>Accuracy</td>\n",
       "      <td>0.510834</td>\n",
       "    </tr>\n",
       "    <tr>\n",
       "      <th>3</th>\n",
       "      <td>MCC</td>\n",
       "      <td>0.000000</td>\n",
       "    </tr>\n",
       "    <tr>\n",
       "      <th>4</th>\n",
       "      <td>F1</td>\n",
       "      <td>0.510834</td>\n",
       "    </tr>\n",
       "    <tr>\n",
       "      <th>5</th>\n",
       "      <td>Precision</td>\n",
       "      <td>0.000000</td>\n",
       "    </tr>\n",
       "    <tr>\n",
       "      <th>6</th>\n",
       "      <td>Recall</td>\n",
       "      <td>0.000000</td>\n",
       "    </tr>\n",
       "    <tr>\n",
       "      <th>7</th>\n",
       "      <td>Kappa</td>\n",
       "      <td>0.000000</td>\n",
       "    </tr>\n",
       "    <tr>\n",
       "      <th>8</th>\n",
       "      <td>Balanced_Accuracy</td>\n",
       "      <td>0.500000</td>\n",
       "    </tr>\n",
       "  </tbody>\n",
       "</table>\n",
       "</div>"
      ],
      "text/plain": [
       "            metrices     score\n",
       "0                AUC  0.500000\n",
       "1              AUPRC  0.489166\n",
       "2           Accuracy  0.510834\n",
       "3                MCC  0.000000\n",
       "4                 F1  0.510834\n",
       "5          Precision  0.000000\n",
       "6             Recall  0.000000\n",
       "7              Kappa  0.000000\n",
       "8  Balanced_Accuracy  0.500000"
      ]
     },
     "execution_count": 7,
     "metadata": {},
     "output_type": "execute_result"
    }
   ],
   "source": [
    "eval_mts(case2_df['synergy_label'], np.array([0]*len(case2_df)), 'classification')"
   ]
  },
  {
   "cell_type": "code",
   "execution_count": 9,
   "id": "db4b4781",
   "metadata": {},
   "outputs": [
    {
     "data": {
      "text/html": [
       "<div>\n",
       "<style scoped>\n",
       "    .dataframe tbody tr th:only-of-type {\n",
       "        vertical-align: middle;\n",
       "    }\n",
       "\n",
       "    .dataframe tbody tr th {\n",
       "        vertical-align: top;\n",
       "    }\n",
       "\n",
       "    .dataframe thead th {\n",
       "        text-align: right;\n",
       "    }\n",
       "</style>\n",
       "<table border=\"1\" class=\"dataframe\">\n",
       "  <thead>\n",
       "    <tr style=\"text-align: right;\">\n",
       "      <th></th>\n",
       "      <th>triplet</th>\n",
       "      <th>icombo</th>\n",
       "      <th>ipair</th>\n",
       "      <th>cid</th>\n",
       "      <th>synergy_label</th>\n",
       "      <th>region_label</th>\n",
       "      <th>tcga_id</th>\n",
       "      <th>tissue_id</th>\n",
       "      <th>dose_region</th>\n",
       "      <th>tcga abbrev</th>\n",
       "      <th>tissue_name</th>\n",
       "      <th>synergy_loewe</th>\n",
       "      <th>predicted_synergy</th>\n",
       "    </tr>\n",
       "  </thead>\n",
       "  <tbody>\n",
       "    <tr>\n",
       "      <th>1</th>\n",
       "      <td>001, RAD_Sorafenib_LOX IMVI</td>\n",
       "      <td>did_5=did_1386=cid_82=r0.1=c2.0</td>\n",
       "      <td>did_5-did_1386</td>\n",
       "      <td>cid_82</td>\n",
       "      <td>0</td>\n",
       "      <td>0</td>\n",
       "      <td>0</td>\n",
       "      <td>0</td>\n",
       "      <td>high_low</td>\n",
       "      <td>TCGA_SKCM</td>\n",
       "      <td>skin</td>\n",
       "      <td>-44.778147</td>\n",
       "      <td>0</td>\n",
       "    </tr>\n",
       "    <tr>\n",
       "      <th>2</th>\n",
       "      <td>001, RAD_Sorafenib_LOX IMVI</td>\n",
       "      <td>did_5=did_1386=cid_82=r0.1=c20.0</td>\n",
       "      <td>did_5-did_1386</td>\n",
       "      <td>cid_82</td>\n",
       "      <td>0</td>\n",
       "      <td>1</td>\n",
       "      <td>0</td>\n",
       "      <td>0</td>\n",
       "      <td>high</td>\n",
       "      <td>TCGA_SKCM</td>\n",
       "      <td>skin</td>\n",
       "      <td>-22.308577</td>\n",
       "      <td>0</td>\n",
       "    </tr>\n",
       "    <tr>\n",
       "      <th>0</th>\n",
       "      <td>001, RAD_Sorafenib_SK-MEL-2</td>\n",
       "      <td>did_5=did_1386=cid_149=r0.1=c2.0</td>\n",
       "      <td>did_5-did_1386</td>\n",
       "      <td>cid_149</td>\n",
       "      <td>0</td>\n",
       "      <td>0</td>\n",
       "      <td>0</td>\n",
       "      <td>0</td>\n",
       "      <td>high_low</td>\n",
       "      <td>TCGA_SKCM</td>\n",
       "      <td>skin</td>\n",
       "      <td>-45.554533</td>\n",
       "      <td>0</td>\n",
       "    </tr>\n",
       "    <tr>\n",
       "      <th>0</th>\n",
       "      <td>Crizotinib_001, RAD_SK-MEL-2</td>\n",
       "      <td>did_618=did_5=cid_149=r0.01=c0.006</td>\n",
       "      <td>did_618-did_5</td>\n",
       "      <td>cid_149</td>\n",
       "      <td>1</td>\n",
       "      <td>2</td>\n",
       "      <td>0</td>\n",
       "      <td>0</td>\n",
       "      <td>low</td>\n",
       "      <td>TCGA_SKCM</td>\n",
       "      <td>skin</td>\n",
       "      <td>19.384170</td>\n",
       "      <td>0</td>\n",
       "    </tr>\n",
       "    <tr>\n",
       "      <th>1</th>\n",
       "      <td>Crizotinib_001, RAD_SK-MEL-2</td>\n",
       "      <td>did_618=did_5=cid_149=r0.01=c0.06</td>\n",
       "      <td>did_618-did_5</td>\n",
       "      <td>cid_149</td>\n",
       "      <td>1</td>\n",
       "      <td>3</td>\n",
       "      <td>0</td>\n",
       "      <td>0</td>\n",
       "      <td>low_high</td>\n",
       "      <td>TCGA_SKCM</td>\n",
       "      <td>skin</td>\n",
       "      <td>18.946444</td>\n",
       "      <td>0</td>\n",
       "    </tr>\n",
       "    <tr>\n",
       "      <th>...</th>\n",
       "      <td>...</td>\n",
       "      <td>...</td>\n",
       "      <td>...</td>\n",
       "      <td>...</td>\n",
       "      <td>...</td>\n",
       "      <td>...</td>\n",
       "      <td>...</td>\n",
       "      <td>...</td>\n",
       "      <td>...</td>\n",
       "      <td>...</td>\n",
       "      <td>...</td>\n",
       "      <td>...</td>\n",
       "      <td>...</td>\n",
       "    </tr>\n",
       "    <tr>\n",
       "      <th>4044330</th>\n",
       "      <td>thiotepa_temozolomide_K-562</td>\n",
       "      <td>did_1961=did_1945=cid_72=r1.0=c2.0</td>\n",
       "      <td>did_1961-did_1945</td>\n",
       "      <td>cid_72</td>\n",
       "      <td>0</td>\n",
       "      <td>2</td>\n",
       "      <td>10</td>\n",
       "      <td>1</td>\n",
       "      <td>low</td>\n",
       "      <td>TCGA_LCML</td>\n",
       "      <td>haematopoietic_and_lymphoid</td>\n",
       "      <td>-25.500809</td>\n",
       "      <td>0</td>\n",
       "    </tr>\n",
       "    <tr>\n",
       "      <th>2849930</th>\n",
       "      <td>thiotepa_temozolomide_LOX IMVI</td>\n",
       "      <td>did_1961=did_1945=cid_82=r1.0=c2.0</td>\n",
       "      <td>did_1961-did_1945</td>\n",
       "      <td>cid_82</td>\n",
       "      <td>0</td>\n",
       "      <td>2</td>\n",
       "      <td>0</td>\n",
       "      <td>0</td>\n",
       "      <td>low</td>\n",
       "      <td>TCGA_SKCM</td>\n",
       "      <td>skin</td>\n",
       "      <td>-38.261655</td>\n",
       "      <td>0</td>\n",
       "    </tr>\n",
       "    <tr>\n",
       "      <th>3678941</th>\n",
       "      <td>thiotepa_temozolomide_U251</td>\n",
       "      <td>did_1961=did_1945=cid_176=r10.0=c0.2</td>\n",
       "      <td>did_1961-did_1945</td>\n",
       "      <td>cid_176</td>\n",
       "      <td>0</td>\n",
       "      <td>0</td>\n",
       "      <td>7</td>\n",
       "      <td>7</td>\n",
       "      <td>high_low</td>\n",
       "      <td>TCGA_GBM</td>\n",
       "      <td>brain</td>\n",
       "      <td>-12.245231</td>\n",
       "      <td>0</td>\n",
       "    </tr>\n",
       "    <tr>\n",
       "      <th>4164894</th>\n",
       "      <td>thiotepa_thalidomide_HCT-15</td>\n",
       "      <td>did_1961=did_1955=cid_56=r10.0=c1.0</td>\n",
       "      <td>did_1961-did_1955</td>\n",
       "      <td>cid_56</td>\n",
       "      <td>0</td>\n",
       "      <td>1</td>\n",
       "      <td>5</td>\n",
       "      <td>5</td>\n",
       "      <td>high</td>\n",
       "      <td>TCGA_COAD</td>\n",
       "      <td>large_intestine</td>\n",
       "      <td>-11.722540</td>\n",
       "      <td>0</td>\n",
       "    </tr>\n",
       "    <tr>\n",
       "      <th>2614847</th>\n",
       "      <td>thiotepa_thalidomide_HOP-62</td>\n",
       "      <td>did_1961=did_1955=cid_59=r10.0=c10.0</td>\n",
       "      <td>did_1961-did_1955</td>\n",
       "      <td>cid_59</td>\n",
       "      <td>1</td>\n",
       "      <td>1</td>\n",
       "      <td>3</td>\n",
       "      <td>3</td>\n",
       "      <td>high</td>\n",
       "      <td>TCGA_LUSC</td>\n",
       "      <td>lung</td>\n",
       "      <td>13.358345</td>\n",
       "      <td>0</td>\n",
       "    </tr>\n",
       "  </tbody>\n",
       "</table>\n",
       "<p>72875 rows × 13 columns</p>\n",
       "</div>"
      ],
      "text/plain": [
       "                                triplet                                icombo  \\\n",
       "1           001, RAD_Sorafenib_LOX IMVI       did_5=did_1386=cid_82=r0.1=c2.0   \n",
       "2           001, RAD_Sorafenib_LOX IMVI      did_5=did_1386=cid_82=r0.1=c20.0   \n",
       "0           001, RAD_Sorafenib_SK-MEL-2      did_5=did_1386=cid_149=r0.1=c2.0   \n",
       "0          Crizotinib_001, RAD_SK-MEL-2    did_618=did_5=cid_149=r0.01=c0.006   \n",
       "1          Crizotinib_001, RAD_SK-MEL-2     did_618=did_5=cid_149=r0.01=c0.06   \n",
       "...                                 ...                                   ...   \n",
       "4044330     thiotepa_temozolomide_K-562    did_1961=did_1945=cid_72=r1.0=c2.0   \n",
       "2849930  thiotepa_temozolomide_LOX IMVI    did_1961=did_1945=cid_82=r1.0=c2.0   \n",
       "3678941      thiotepa_temozolomide_U251  did_1961=did_1945=cid_176=r10.0=c0.2   \n",
       "4164894     thiotepa_thalidomide_HCT-15   did_1961=did_1955=cid_56=r10.0=c1.0   \n",
       "2614847     thiotepa_thalidomide_HOP-62  did_1961=did_1955=cid_59=r10.0=c10.0   \n",
       "\n",
       "                     ipair      cid  synergy_label  region_label  tcga_id  \\\n",
       "1           did_5-did_1386   cid_82              0             0        0   \n",
       "2           did_5-did_1386   cid_82              0             1        0   \n",
       "0           did_5-did_1386  cid_149              0             0        0   \n",
       "0            did_618-did_5  cid_149              1             2        0   \n",
       "1            did_618-did_5  cid_149              1             3        0   \n",
       "...                    ...      ...            ...           ...      ...   \n",
       "4044330  did_1961-did_1945   cid_72              0             2       10   \n",
       "2849930  did_1961-did_1945   cid_82              0             2        0   \n",
       "3678941  did_1961-did_1945  cid_176              0             0        7   \n",
       "4164894  did_1961-did_1955   cid_56              0             1        5   \n",
       "2614847  did_1961-did_1955   cid_59              1             1        3   \n",
       "\n",
       "         tissue_id dose_region tcga abbrev                  tissue_name  \\\n",
       "1                0    high_low   TCGA_SKCM                         skin   \n",
       "2                0        high   TCGA_SKCM                         skin   \n",
       "0                0    high_low   TCGA_SKCM                         skin   \n",
       "0                0         low   TCGA_SKCM                         skin   \n",
       "1                0    low_high   TCGA_SKCM                         skin   \n",
       "...            ...         ...         ...                          ...   \n",
       "4044330          1         low   TCGA_LCML  haematopoietic_and_lymphoid   \n",
       "2849930          0         low   TCGA_SKCM                         skin   \n",
       "3678941          7    high_low    TCGA_GBM                        brain   \n",
       "4164894          5        high   TCGA_COAD              large_intestine   \n",
       "2614847          3        high   TCGA_LUSC                         lung   \n",
       "\n",
       "         synergy_loewe  predicted_synergy  \n",
       "1           -44.778147                  0  \n",
       "2           -22.308577                  0  \n",
       "0           -45.554533                  0  \n",
       "0            19.384170                  0  \n",
       "1            18.946444                  0  \n",
       "...                ...                ...  \n",
       "4044330     -25.500809                  0  \n",
       "2849930     -38.261655                  0  \n",
       "3678941     -12.245231                  0  \n",
       "4164894     -11.722540                  0  \n",
       "2614847      13.358345                  0  \n",
       "\n",
       "[72875 rows x 13 columns]"
      ]
     },
     "execution_count": 9,
     "metadata": {},
     "output_type": "execute_result"
    }
   ],
   "source": [
    "case2_df['predicted_synergy'] = 0\n",
    "case2_df"
   ]
  },
  {
   "cell_type": "code",
   "execution_count": 10,
   "id": "6ff17242",
   "metadata": {},
   "outputs": [
    {
     "name": "stdout",
     "output_type": "stream",
     "text": [
      "Top 10 triplet:\n",
      "                          N  AUC     AUPRC\n",
      "did_653_did_836_cid_72   12  0.5  0.166667\n",
      "did_1115_did_836_cid_72  11  0.5  0.545455\n",
      "did_627_did_836_cid_150  10  0.5  0.800000\n",
      "did_627_did_836_cid_147  10  0.5  0.600000\n",
      "did_147_did_836_cid_74    9  0.5  0.111111\n",
      "did_3_did_836_cid_119     7  0.5  0.857143\n",
      "did_627_did_836_cid_124   7  0.5  0.857143\n",
      "did_627_did_836_cid_176   7  0.5  0.857143\n",
      "did_627_did_836_cid_93    7  0.5  0.857143\n",
      "did_808_did_1211_cid_65   7  0.5  0.428571\n",
      "per-triplet performance\n",
      "           mean  standard deviation\n",
      "N      2.912595            1.140266\n",
      "AUC    0.500000            0.000000\n",
      "AUPRC  0.500983            0.142179\n"
     ]
    }
   ],
   "source": [
    "df = case2_df\n",
    "# get triplet from icombo\n",
    "df[['did_row', 'did_col', 'cid', 'conc_r', 'conc_c']]= df['icombo'].str.split('=', expand=True)\n",
    "df['triplet'] = df['did_row'] + '_' + df['did_col'] + '_' + df['cid']\n",
    "   \n",
    "    \n",
    "# collect qualified triplets: have positives and negatives  \n",
    "g = df.groupby(by=['triplet'])['synergy_label'].agg('mean').to_frame('#label')\n",
    "all_pos = g[g['#label']==1].index.tolist()\n",
    "all_neg = g[g['#label']==0].index.tolist()\n",
    "triplet_list = sorted(set(g.index) - set(all_pos+all_neg))\n",
    "    \n",
    "# get per-triplet performance\n",
    "record_list = [] # (N, AUC, AUPRC)\n",
    "grps = df.groupby(['triplet'])\n",
    "for triplet in triplet_list:\n",
    "    sample = grps.get_group(triplet)\n",
    "    auc = skmts.roc_auc_score(sample['synergy_label'], sample['predicted_synergy'])\n",
    "    auprc = skmts.average_precision_score(sample['synergy_label'], sample['predicted_synergy'])\n",
    "    record_list.append( (len(sample), auc, auprc) )\n",
    "df = pd.DataFrame.from_records(record_list, index=triplet_list, columns=['N', 'AUC', 'AUPRC'])\n",
    "df = df.sort_values(by=['N', 'AUPRC', 'AUC'], ascending=False)\n",
    "print(f'Top 10 triplet:\\n{df.head(10)}')\n",
    "    \n",
    "# calculate mean , standard deviation\n",
    "print(f'per-triplet performance')\n",
    "print(pd.concat([df.mean(axis=0).to_frame(name='mean'), df.std(axis=0).to_frame(name='standard deviation')], axis=1))"
   ]
  },
  {
   "cell_type": "code",
   "execution_count": 4,
   "id": "03c7757c",
   "metadata": {},
   "outputs": [
    {
     "data": {
      "text/plain": [
       "Index(['drug_row', 'drug_col', 'cell_line_name', 'conc_r', 'conc_c',\n",
       "       'inhibition', 'synergy_zip', 'synergy_loewe', 'synergy_hsa',\n",
       "       'synergy_bliss', 'ic50_row', 'ic50_col', 'ri_row', 'ri_col',\n",
       "       'tissue_name', 'study_name', 'drug_row_clinical_phase',\n",
       "       'drug_col_clinical_phase', 'did_row', 'did_col', 'cid', 'triplet',\n",
       "       'icombo', 'ipair', 'cate_r', 'cate_c', 'dose_region', 'tcga abbrev'],\n",
       "      dtype='object')"
      ]
     },
     "execution_count": 4,
     "metadata": {},
     "output_type": "execute_result"
    }
   ],
   "source": [
    "df2.columns"
   ]
  },
  {
   "cell_type": "code",
   "execution_count": 6,
   "id": "035a3b86",
   "metadata": {},
   "outputs": [
    {
     "data": {
      "text/plain": [
       "46"
      ]
     },
     "execution_count": 6,
     "metadata": {},
     "output_type": "execute_result"
    }
   ],
   "source": [
    "len( set(df2['ipair'])&set(oneil_df['ipair']) )"
   ]
  },
  {
   "cell_type": "code",
   "execution_count": 7,
   "id": "58af6ffc",
   "metadata": {},
   "outputs": [
    {
     "data": {
      "text/plain": [
       "9"
      ]
     },
     "execution_count": 7,
     "metadata": {},
     "output_type": "execute_result"
    }
   ],
   "source": [
    "len( set(df2['cid'])&set(oneil_df['cid']) )"
   ]
  },
  {
   "cell_type": "code",
   "execution_count": 8,
   "id": "4577419a",
   "metadata": {},
   "outputs": [
    {
     "data": {
      "text/plain": [
       "0"
      ]
     },
     "execution_count": 8,
     "metadata": {},
     "output_type": "execute_result"
    }
   ],
   "source": [
    "len( set(df2['triplet'])&set(oneil_df['triplet']) )"
   ]
  },
  {
   "cell_type": "code",
   "execution_count": 5,
   "id": "5c319e64",
   "metadata": {},
   "outputs": [
    {
     "data": {
      "text/plain": [
       "46"
      ]
     },
     "execution_count": 5,
     "metadata": {},
     "output_type": "execute_result"
    }
   ],
   "source": [
    "len(df2['cid'].unique())"
   ]
  },
  {
   "cell_type": "code",
   "execution_count": 6,
   "id": "de8c4b25",
   "metadata": {},
   "outputs": [
    {
     "data": {
      "text/plain": [
       "6"
      ]
     },
     "execution_count": 6,
     "metadata": {},
     "output_type": "execute_result"
    }
   ],
   "source": [
    "len( set(df2['tissue_name'])&set(oneil_df['tissue_name']) )"
   ]
  },
  {
   "cell_type": "code",
   "execution_count": 7,
   "id": "c50e685f",
   "metadata": {},
   "outputs": [
    {
     "data": {
      "text/plain": [
       "9"
      ]
     },
     "execution_count": 7,
     "metadata": {},
     "output_type": "execute_result"
    }
   ],
   "source": [
    "len(df2['tissue_name'].unique())"
   ]
  },
  {
   "cell_type": "code",
   "execution_count": 9,
   "id": "d281c78c",
   "metadata": {},
   "outputs": [
    {
     "data": {
      "text/plain": [
       "array(['skin', 'haematopoietic_and_lymphoid', 'kidney', 'lung', 'breast',\n",
       "       'large_intestine', 'ovary', 'brain', 'prostate'], dtype=object)"
      ]
     },
     "execution_count": 9,
     "metadata": {},
     "output_type": "execute_result"
    }
   ],
   "source": [
    "df2['tissue_name'].unique()"
   ]
  },
  {
   "cell_type": "code",
   "execution_count": 10,
   "id": "a2a05d3e",
   "metadata": {},
   "outputs": [
    {
     "data": {
      "text/plain": [
       "{'breast', 'large_intestine', 'lung', 'ovary', 'prostate', 'skin'}"
      ]
     },
     "execution_count": 10,
     "metadata": {},
     "output_type": "execute_result"
    }
   ],
   "source": [
    "set(df2['tissue_name'])&set(oneil_df['tissue_name'])"
   ]
  },
  {
   "cell_type": "code",
   "execution_count": null,
   "id": "b84b4012",
   "metadata": {},
   "outputs": [],
   "source": []
  }
 ],
 "metadata": {
  "kernelspec": {
   "display_name": "Python 3 (ipykernel)",
   "language": "python",
   "name": "python3"
  },
  "language_info": {
   "codemirror_mode": {
    "name": "ipython",
    "version": 3
   },
   "file_extension": ".py",
   "mimetype": "text/x-python",
   "name": "python",
   "nbconvert_exporter": "python",
   "pygments_lexer": "ipython3",
   "version": "3.8.13"
  }
 },
 "nbformat": 4,
 "nbformat_minor": 5
}
