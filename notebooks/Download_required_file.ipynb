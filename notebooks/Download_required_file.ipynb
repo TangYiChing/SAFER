{
 "cells": [
  {
   "cell_type": "markdown",
   "id": "f655c2c1",
   "metadata": {},
   "source": [
    "# DrugComb\n",
    "\n",
    "### summary data (v1.5)\n",
    "\n",
    "https://drugcomb.org/download/\n",
    "\n",
    "* summary_v_1_5.csv"
   ]
  },
  {
   "cell_type": "markdown",
   "id": "b3f8500c",
   "metadata": {},
   "source": [
    "# CCLE\n",
    "\n",
    "### omics data of cancer cell lines (Pubclic 22Q4)\n",
    "\n",
    "https://depmap.org/portal/download/all/\n",
    "\n",
    "* OmicsExpressionProteinCodingGenesTPMLogp1.csv\n",
    "* OmicsSomaticMutations.csv\n",
    "* OmicsCNGene.csv\n",
    "* Model.csv"
   ]
  },
  {
   "cell_type": "markdown",
   "id": "40c153a5",
   "metadata": {},
   "source": [
    "# MSigDB\n",
    "\n",
    "### gene set (v2022.1)\n",
    "\n",
    "https://www.gsea-msigdb.org/gsea/msigdb\n",
    "\n",
    "* c2: c2.cp.v2022.1.Hs.symbols.gmt\n",
    "* c3: c3.tft.v2022.1.Hs.symbols.gmt\n"
   ]
  },
  {
   "cell_type": "markdown",
   "id": "4dff5017",
   "metadata": {},
   "source": [
    "# TTD\n",
    "\n",
    "### drug target gene\n",
    "\n",
    "https://db.idrblab.net/ttd/full-data-download\n",
    "\n",
    "* P1-01-TTD_target_download.txt\n",
    "* P1-03-TTD_crossmatching.txt\n",
    "* P1-07-Drug-TargetMapping.xlsx"
   ]
  },
  {
   "cell_type": "markdown",
   "id": "bd120c61",
   "metadata": {},
   "source": [
    "# STITCH\n",
    "\n",
    "### chemical-protein links (human sapiens)\n",
    "\n",
    "http://stitch.embl.de/cgi/download.pl?UserId=l4yJgt3kHHGf&sessionId=uCRvEMEVBZIW&species_text=Homo+sapiens\n",
    "\n",
    "* 9606.protein_chemical.links.v5.0.tsv.gz\n",
    "* 9606.actions.v5.0.tsv.gz\n",
    "* 9606.protein.info.v11.5.txt.gz"
   ]
  },
  {
   "cell_type": "markdown",
   "id": "58c47f2d",
   "metadata": {},
   "source": [
    "# Chemical Checker\n",
    "\n",
    "### chemical features in 25 similarity spaces\n",
    "\n",
    "https://chemicalchecker.org/downloads/root\n",
    "\n",
    "* A1.h5\n",
    "* A2.h5\n",
    "* A3.h5\n",
    "* A4.h5\n",
    "* A5.h5\n",
    "\n",
    "* B1.h5\n",
    "* B2.h5\n",
    "* B3.h5\n",
    "* B4.h5\n",
    "* B5.h5\n",
    "\n",
    "* C1.h5\n",
    "* C2.h5\n",
    "* C3.h5\n",
    "* C4.h5\n",
    "* C5.h5\n",
    "\n",
    "* D1.h5\n",
    "* D2.h5\n",
    "* D3.h5\n",
    "* D4.h5\n",
    "* D5.h5"
   ]
  },
  {
   "cell_type": "markdown",
   "id": "908181aa",
   "metadata": {},
   "source": [
    " # NCBI\n",
    " \n",
    " ### protein-coding genes (human sapiens)\n",
    " \n",
    " https://ftp.ncbi.nih.gov/refseq/H_sapiens/Homo_sapiens.gene_info.gz"
   ]
  },
  {
   "cell_type": "markdown",
   "id": "87e2aad5",
   "metadata": {},
   "source": [
    "# GRAND\n",
    "\n",
    "## cell line-specific TF-regulatory network\n",
    "\n",
    "https://grand.networkmedicine.org/"
   ]
  },
  {
   "cell_type": "markdown",
   "id": "67427025",
   "metadata": {},
   "source": [
    "# Tissue-Specific Variations in Transcription Factors\n",
    "\n",
    "## tissue-specific TFs\n",
    "\n",
    "* Tissue-Specific.TF.csv\n",
    "\n",
    "https://pubmed.ncbi.nlm.nih.gov/35627314/"
   ]
  },
  {
   "cell_type": "code",
   "execution_count": null,
   "id": "09ab6d9a",
   "metadata": {},
   "outputs": [],
   "source": []
  }
 ],
 "metadata": {
  "kernelspec": {
   "display_name": "Python 3 (ipykernel)",
   "language": "python",
   "name": "python3"
  },
  "language_info": {
   "codemirror_mode": {
    "name": "ipython",
    "version": 3
   },
   "file_extension": ".py",
   "mimetype": "text/x-python",
   "name": "python",
   "nbconvert_exporter": "python",
   "pygments_lexer": "ipython3",
   "version": "3.8.13"
  }
 },
 "nbformat": 4,
 "nbformat_minor": 5
}
